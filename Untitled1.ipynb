{
 "cells": [
  {
   "cell_type": "code",
   "execution_count": 1,
   "id": "9d80ebba-fe0c-4eb6-8c47-bbba8aa2bfbc",
   "metadata": {},
   "outputs": [],
   "source": [
    "import pandas as pd\n",
    "from datetime import datetime, timedelta"
   ]
  },
  {
   "cell_type": "code",
   "execution_count": 2,
   "id": "b64f2f15-856e-428d-82e3-d5d80ac9a472",
   "metadata": {},
   "outputs": [],
   "source": [
    "# Read the data from the CSV file named \"Assignment_Timecard.xlsx - Sheet1.csv\" into a Pandas DataFrame"
   ]
  },
  {
   "cell_type": "code",
   "execution_count": 3,
   "id": "90784efe-29f0-4c1d-aa82-338aa7b92c66",
   "metadata": {},
   "outputs": [],
   "source": [
    "df = pd.read_csv(\"Assignment_Timecard.xlsx - Sheet1.csv\")"
   ]
  },
  {
   "cell_type": "code",
   "execution_count": 4,
   "id": "034f13a7-c067-4496-9263-8a59a4769f3a",
   "metadata": {},
   "outputs": [],
   "source": [
    "# Access the most of column of the DataFrame and assign it to the variable like as'position_id','Time','Time Out','Employee Name' etc."
   ]
  },
  {
   "cell_type": "code",
   "execution_count": 5,
   "id": "111afd94-5c11-4c43-8038-196a19da5a33",
   "metadata": {
    "scrolled": true
   },
   "outputs": [],
   "source": [
    "position_id = df['Position ID']\n",
    "# position_status = df['Position Status']\n",
    "time_In = list(df['Time'])\n",
    "time_out = list(df['Time Out'])\n",
    "time_hour = list(df['Timecard Hours (as Time)'])\n",
    "Employee_name = list(df['Employee Name'])\n",
    "# File_Number= df['File Number']\n"
   ]
  },
  {
   "cell_type": "code",
   "execution_count": 6,
   "id": "e5bb7e3f-9ff9-4bc0-a203-865d2debb43b",
   "metadata": {},
   "outputs": [],
   "source": [
    "# Print the entire DataFrame "
   ]
  },
  {
   "cell_type": "code",
   "execution_count": 7,
   "id": "710713eb-2b5a-434d-b539-e67b6fe5161d",
   "metadata": {},
   "outputs": [
    {
     "data": {
      "text/html": [
       "<div>\n",
       "<style scoped>\n",
       "    .dataframe tbody tr th:only-of-type {\n",
       "        vertical-align: middle;\n",
       "    }\n",
       "\n",
       "    .dataframe tbody tr th {\n",
       "        vertical-align: top;\n",
       "    }\n",
       "\n",
       "    .dataframe thead th {\n",
       "        text-align: right;\n",
       "    }\n",
       "</style>\n",
       "<table border=\"1\" class=\"dataframe\">\n",
       "  <thead>\n",
       "    <tr style=\"text-align: right;\">\n",
       "      <th></th>\n",
       "      <th>Position ID</th>\n",
       "      <th>Position Status</th>\n",
       "      <th>Time</th>\n",
       "      <th>Time Out</th>\n",
       "      <th>Timecard Hours (as Time)</th>\n",
       "      <th>Pay Cycle Start Date</th>\n",
       "      <th>Pay Cycle End Date</th>\n",
       "      <th>Employee Name</th>\n",
       "      <th>File Number</th>\n",
       "      <th>Unnamed: 9</th>\n",
       "      <th>Unnamed: 10</th>\n",
       "    </tr>\n",
       "  </thead>\n",
       "  <tbody>\n",
       "    <tr>\n",
       "      <th>0</th>\n",
       "      <td>WFS000054</td>\n",
       "      <td>Active</td>\n",
       "      <td>NaN</td>\n",
       "      <td>NaN</td>\n",
       "      <td>NaN</td>\n",
       "      <td>NaN</td>\n",
       "      <td>NaN</td>\n",
       "      <td>SiWgh, PraGhjEM</td>\n",
       "      <td>54</td>\n",
       "      <td>NaN</td>\n",
       "      <td>NaN</td>\n",
       "    </tr>\n",
       "    <tr>\n",
       "      <th>1</th>\n",
       "      <td>WFS000065</td>\n",
       "      <td>Active</td>\n",
       "      <td>09/12/2023 10:08 AM</td>\n",
       "      <td>09/12/2023 01:53 PM</td>\n",
       "      <td>3:45</td>\n",
       "      <td>09/10/2023</td>\n",
       "      <td>09/23/2023</td>\n",
       "      <td>REsaXiaWE, XAis</td>\n",
       "      <td>65</td>\n",
       "      <td>NaN</td>\n",
       "      <td>NaN</td>\n",
       "    </tr>\n",
       "    <tr>\n",
       "      <th>2</th>\n",
       "      <td>WFS000065</td>\n",
       "      <td>Active</td>\n",
       "      <td>09/12/2023 02:23 PM</td>\n",
       "      <td>09/12/2023 07:02 PM</td>\n",
       "      <td>4:39</td>\n",
       "      <td>09/10/2023</td>\n",
       "      <td>09/23/2023</td>\n",
       "      <td>REsaXiaWE, XAis</td>\n",
       "      <td>65</td>\n",
       "      <td>NaN</td>\n",
       "      <td>NaN</td>\n",
       "    </tr>\n",
       "    <tr>\n",
       "      <th>3</th>\n",
       "      <td>WFS000065</td>\n",
       "      <td>Active</td>\n",
       "      <td>09/13/2023 10:08 AM</td>\n",
       "      <td>09/13/2023 02:20 PM</td>\n",
       "      <td>4:12</td>\n",
       "      <td>09/10/2023</td>\n",
       "      <td>09/23/2023</td>\n",
       "      <td>REsaXiaWE, XAis</td>\n",
       "      <td>65</td>\n",
       "      <td>NaN</td>\n",
       "      <td>NaN</td>\n",
       "    </tr>\n",
       "    <tr>\n",
       "      <th>4</th>\n",
       "      <td>WFS000065</td>\n",
       "      <td>Active</td>\n",
       "      <td>09/13/2023 02:50 PM</td>\n",
       "      <td>09/13/2023 08:44 PM</td>\n",
       "      <td>5:54</td>\n",
       "      <td>09/10/2023</td>\n",
       "      <td>09/23/2023</td>\n",
       "      <td>REsaXiaWE, XAis</td>\n",
       "      <td>65</td>\n",
       "      <td>NaN</td>\n",
       "      <td>NaN</td>\n",
       "    </tr>\n",
       "    <tr>\n",
       "      <th>...</th>\n",
       "      <td>...</td>\n",
       "      <td>...</td>\n",
       "      <td>...</td>\n",
       "      <td>...</td>\n",
       "      <td>...</td>\n",
       "      <td>...</td>\n",
       "      <td>...</td>\n",
       "      <td>...</td>\n",
       "      <td>...</td>\n",
       "      <td>...</td>\n",
       "      <td>...</td>\n",
       "    </tr>\n",
       "    <tr>\n",
       "      <th>1479</th>\n",
       "      <td>WFS000589</td>\n",
       "      <td>Active</td>\n",
       "      <td>09/20/2023 09:55 AM</td>\n",
       "      <td>09/20/2023 02:30 PM</td>\n",
       "      <td>4:35</td>\n",
       "      <td>09/10/2023</td>\n",
       "      <td>09/23/2023</td>\n",
       "      <td>WgAyeW, RayCEWd</td>\n",
       "      <td>589</td>\n",
       "      <td>NaN</td>\n",
       "      <td>NaN</td>\n",
       "    </tr>\n",
       "    <tr>\n",
       "      <th>1480</th>\n",
       "      <td>WFS000589</td>\n",
       "      <td>Active</td>\n",
       "      <td>09/20/2023 03:00 PM</td>\n",
       "      <td>09/20/2023 07:29 PM</td>\n",
       "      <td>4:29</td>\n",
       "      <td>09/10/2023</td>\n",
       "      <td>09/23/2023</td>\n",
       "      <td>WgAyeW, RayCEWd</td>\n",
       "      <td>589</td>\n",
       "      <td>NaN</td>\n",
       "      <td>NaN</td>\n",
       "    </tr>\n",
       "    <tr>\n",
       "      <th>1481</th>\n",
       "      <td>WFS000589</td>\n",
       "      <td>Active</td>\n",
       "      <td>09/21/2023 09:56 AM</td>\n",
       "      <td>09/21/2023 02:30 PM</td>\n",
       "      <td>4:34</td>\n",
       "      <td>09/10/2023</td>\n",
       "      <td>09/23/2023</td>\n",
       "      <td>WgAyeW, RayCEWd</td>\n",
       "      <td>589</td>\n",
       "      <td>NaN</td>\n",
       "      <td>NaN</td>\n",
       "    </tr>\n",
       "    <tr>\n",
       "      <th>1482</th>\n",
       "      <td>WFS000589</td>\n",
       "      <td>Active</td>\n",
       "      <td>09/21/2023 03:00 PM</td>\n",
       "      <td>09/21/2023 07:16 PM</td>\n",
       "      <td>4:16</td>\n",
       "      <td>09/10/2023</td>\n",
       "      <td>09/23/2023</td>\n",
       "      <td>WgAyeW, RayCEWd</td>\n",
       "      <td>589</td>\n",
       "      <td>NaN</td>\n",
       "      <td>NaN</td>\n",
       "    </tr>\n",
       "    <tr>\n",
       "      <th>1483</th>\n",
       "      <td>WFS000591</td>\n",
       "      <td>Active</td>\n",
       "      <td>NaN</td>\n",
       "      <td>NaN</td>\n",
       "      <td>NaN</td>\n",
       "      <td>NaN</td>\n",
       "      <td>NaN</td>\n",
       "      <td>ArveXE RECerE, AWdres JesAs</td>\n",
       "      <td>591</td>\n",
       "      <td>NaN</td>\n",
       "      <td>NaN</td>\n",
       "    </tr>\n",
       "  </tbody>\n",
       "</table>\n",
       "<p>1484 rows × 11 columns</p>\n",
       "</div>"
      ],
      "text/plain": [
       "     Position ID Position Status                 Time             Time Out  \\\n",
       "0      WFS000054          Active                  NaN                  NaN   \n",
       "1      WFS000065          Active  09/12/2023 10:08 AM  09/12/2023 01:53 PM   \n",
       "2      WFS000065          Active  09/12/2023 02:23 PM  09/12/2023 07:02 PM   \n",
       "3      WFS000065          Active  09/13/2023 10:08 AM  09/13/2023 02:20 PM   \n",
       "4      WFS000065          Active  09/13/2023 02:50 PM  09/13/2023 08:44 PM   \n",
       "...          ...             ...                  ...                  ...   \n",
       "1479   WFS000589          Active  09/20/2023 09:55 AM  09/20/2023 02:30 PM   \n",
       "1480   WFS000589          Active  09/20/2023 03:00 PM  09/20/2023 07:29 PM   \n",
       "1481   WFS000589          Active  09/21/2023 09:56 AM  09/21/2023 02:30 PM   \n",
       "1482   WFS000589          Active  09/21/2023 03:00 PM  09/21/2023 07:16 PM   \n",
       "1483   WFS000591          Active                  NaN                  NaN   \n",
       "\n",
       "     Timecard Hours (as Time) Pay Cycle Start Date Pay Cycle End Date  \\\n",
       "0                         NaN                  NaN                NaN   \n",
       "1                        3:45           09/10/2023         09/23/2023   \n",
       "2                        4:39           09/10/2023         09/23/2023   \n",
       "3                        4:12           09/10/2023         09/23/2023   \n",
       "4                        5:54           09/10/2023         09/23/2023   \n",
       "...                       ...                  ...                ...   \n",
       "1479                     4:35           09/10/2023         09/23/2023   \n",
       "1480                     4:29           09/10/2023         09/23/2023   \n",
       "1481                     4:34           09/10/2023         09/23/2023   \n",
       "1482                     4:16           09/10/2023         09/23/2023   \n",
       "1483                      NaN                  NaN                NaN   \n",
       "\n",
       "                    Employee Name  File Number  Unnamed: 9 Unnamed: 10  \n",
       "0                 SiWgh, PraGhjEM           54         NaN         NaN  \n",
       "1                 REsaXiaWE, XAis           65         NaN         NaN  \n",
       "2                 REsaXiaWE, XAis           65         NaN         NaN  \n",
       "3                 REsaXiaWE, XAis           65         NaN         NaN  \n",
       "4                 REsaXiaWE, XAis           65         NaN         NaN  \n",
       "...                           ...          ...         ...         ...  \n",
       "1479              WgAyeW, RayCEWd          589         NaN         NaN  \n",
       "1480              WgAyeW, RayCEWd          589         NaN         NaN  \n",
       "1481              WgAyeW, RayCEWd          589         NaN         NaN  \n",
       "1482              WgAyeW, RayCEWd          589         NaN         NaN  \n",
       "1483  ArveXE RECerE, AWdres JesAs          591         NaN         NaN  \n",
       "\n",
       "[1484 rows x 11 columns]"
      ]
     },
     "execution_count": 7,
     "metadata": {},
     "output_type": "execute_result"
    }
   ],
   "source": [
    "df "
   ]
  },
  {
   "cell_type": "markdown",
   "id": "e30a40de-33b9-4ce2-a7d6-d6f4432ec014",
   "metadata": {},
   "source": [
    "# (C) Who has worked for more than 14 hours in a single shift¶\n",
    "# OUTPUT- Employee NAME :: DeXgadiXXE REdarMe, ChrisMiaW S, Position ID :: WFS000523"
   ]
  },
  {
   "cell_type": "code",
   "execution_count": 8,
   "id": "54df3ddc-e52f-4a13-bf65-d89d2db18c34",
   "metadata": {},
   "outputs": [],
   "source": [
    "# Create a list outside the loop to store employee indices"
   ]
  },
  {
   "cell_type": "code",
   "execution_count": 9,
   "id": "3bdfb408-e8bd-45a4-8039-f7c31aa50985",
   "metadata": {},
   "outputs": [],
   "source": [
    "Employee_indices = [] "
   ]
  },
  {
   "cell_type": "code",
   "execution_count": 10,
   "id": "11e8f96b-cc1b-47a4-afbf-877d8cb16a84",
   "metadata": {},
   "outputs": [],
   "source": [
    "# Assume time_hour is a list containing time values in the format \"HH:MM\""
   ]
  },
  {
   "cell_type": "code",
   "execution_count": 11,
   "id": "6444013e-a744-4fb2-8561-124bc9c5f422",
   "metadata": {},
   "outputs": [
    {
     "name": "stdout",
     "output_type": "stream",
     "text": [
      "Employee NAME :: DeXgadiXXE REdarMe, ChrisMiaW S, Position ID :: WFS000523\n"
     ]
    }
   ],
   "source": [
    "for time in time_hour:\n",
    "    if type(time) !=float:                                       # Check if the type of the time is not float\n",
    "        hours, minutes = time.split(\":\")                         # Split the time into hours and minutes\n",
    "        total_minutes = (int(hours)*3600) + (int(minutes)*60)    # Calculate total minutes from hours and minutes\n",
    "        if total_minutes > (14*3600):                            # Check if total minutes is greater than 14 hours (14 * 3600 seconds)\n",
    "            Employee_indices.append(time_hour.index(time))       # If true, add the index of the current time to the employee list\n",
    "            for i in Employee_indices:                           # Print the names and position IDs of employees with time greater than 14 hours\n",
    "                print(f\"Employee NAME :: {Employee_name[i]}, Position ID :: {position_id[i]}\")"
   ]
  },
  {
   "cell_type": "markdown",
   "id": "d3d1f79f-8647-4072-a668-79fb0bb33d5b",
   "metadata": {},
   "source": [
    "# (A) who has worked for 7 consecutive days.73"
   ]
  },
  {
   "cell_type": "code",
   "execution_count": 12,
   "id": "4cb71aef-9d8d-451c-b635-26c9dbc007e1",
   "metadata": {},
   "outputs": [],
   "source": [
    "# Assuming 'df' is a DataFrame, the following lines convert the 'Time' column to datetime objects.\n"
   ]
  },
  {
   "cell_type": "code",
   "execution_count": 13,
   "id": "c91f84bd-1b72-40b2-9027-8ee4d896c9f2",
   "metadata": {},
   "outputs": [],
   "source": [
    " #convert the 'Time Out' column to datetime objects and assign the result back to the 'Time Out' column."
   ]
  },
  {
   "cell_type": "code",
   "execution_count": 14,
   "id": "9f435b4b-0333-4a03-9ff9-c398ec99aaf9",
   "metadata": {},
   "outputs": [
    {
     "name": "stderr",
     "output_type": "stream",
     "text": [
      "C:\\Users\\Aman\\AppData\\Local\\Temp\\ipykernel_9912\\1780504652.py:2: UserWarning: Could not infer format, so each element will be parsed individually, falling back to `dateutil`. To ensure parsing is consistent and as-expected, please specify a format.\n",
      "  df['Time Out'] = pd.to_datetime(df['Time Out']) #convert the 'Time Out' column to datetime objects and assign the result back to the 'Time Out' column.\n"
     ]
    }
   ],
   "source": [
    "df['Time'] = pd.to_datetime(df['Time'])         # Convert the 'Time' column to datetime objects and assign the result back to the 'Time' column.\n",
    "df['Time Out'] = pd.to_datetime(df['Time Out']) #convert the 'Time Out' column to datetime objects and assign the result back to the 'Time Out' column."
   ]
  },
  {
   "cell_type": "code",
   "execution_count": 15,
   "id": "65e763c9-6c10-4fe8-b36c-24878fb3dab0",
   "metadata": {},
   "outputs": [],
   "source": [
    "df.sort_values(['Employee Name', 'Time'], inplace=True)"
   ]
  },
  {
   "cell_type": "code",
   "execution_count": 16,
   "id": "25bafbc6-3de3-44f9-a322-1b61be700559",
   "metadata": {},
   "outputs": [],
   "source": [
    "# Function to check if a list of dates represents consecutive days"
   ]
  },
  {
   "cell_type": "code",
   "execution_count": 17,
   "id": "6ff5701e-fb49-440e-8710-08397727457e",
   "metadata": {},
   "outputs": [],
   "source": [
    "def are_consecutive_dates(df_list):\n",
    "    return all((df_list[i + 1] - df_list[i]).days == 1 for i in range(len(df_list) - 1))"
   ]
  },
  {
   "cell_type": "code",
   "execution_count": 18,
   "id": "99f0d3ba-23eb-4a8f-84a3-b4b3f2583f22",
   "metadata": {},
   "outputs": [],
   "source": [
    "# Filter employees who have worked for 7 consecutive days"
   ]
  },
  {
   "cell_type": "code",
   "execution_count": 19,
   "id": "49a148e5-3e6b-41b2-b49e-ed68b97a54ac",
   "metadata": {},
   "outputs": [],
   "source": [
    "consecutive_days_threshold = 7"
   ]
  },
  {
   "cell_type": "code",
   "execution_count": 20,
   "id": "d4adf1bc-1f53-4054-8ae3-216acb7be880",
   "metadata": {},
   "outputs": [],
   "source": [
    "# Dictionary to store employees who worked 7 consecutive days\n"
   ]
  },
  {
   "cell_type": "code",
   "execution_count": 21,
   "id": "bf76cb16-4238-4269-b0e8-07dfa48ba9c9",
   "metadata": {},
   "outputs": [],
   "source": [
    "employees_7_consecutive_days = {}"
   ]
  },
  {
   "cell_type": "code",
   "execution_count": 22,
   "id": "657106f4-942a-4db4-ab7b-78b839fba411",
   "metadata": {},
   "outputs": [],
   "source": [
    "# Iterate through the DataFrame"
   ]
  },
  {
   "cell_type": "code",
   "execution_count": 23,
   "id": "b6537e13-1870-49de-8edf-e0cd7353fa5d",
   "metadata": {
    "scrolled": true
   },
   "outputs": [
    {
     "name": "stdout",
     "output_type": "stream",
     "text": [
      "Employee NAME :: Sparks, KeWWeMh, Position. ID :: WFS000101\n",
      "Employee NAME :: CEreira Jr, JEse, Position. ID :: WFS000456\n",
      "Employee NAME :: GAeWdia, JAaW CarXEs, Position. ID :: WFS000473\n"
     ]
    }
   ],
   "source": [
    "for i in range(len(df)):                                                       \n",
    "    if not pd.isna(df[\"Time\"][i]) and isinstance(df[\"Time\"][i], pd.Timestamp):  # Check if the \"Time\" column is not NaN and is an instance of Timestamp\n",
    "        date_only_str = df[\"Time\"][i].date().strftime(\"%Y-%m-%d\")               # Extract the date part from the Timestamp and format it as \"YYYY-MM-DD\"\n",
    "\n",
    "        if df[\"Employee Name\"][i] in employees_7_consecutive_days:              # Check if the employee is already in the dictionary\n",
    "            employees_7_consecutive_days[df[\"Employee Name\"][i]].add(date_only_str[-2:]) # Add the last two characters of the date (day part) to the employee's set\n",
    "\n",
    "        else:\n",
    "            employees_7_consecutive_days[df[\"Employee Name\"][i]] = set(date_only_str[-2:]) # If the employee is not in the dictionary, create a new set with the day part\n",
    "\n",
    "for i,j in employees_7_consecutive_days.items():                           # Iterate through the dictionary items (employee names and their sets of days)\n",
    "    sorted_ele = sorted(j)                                                 # Sort the set of days\n",
    "    consecutive_count=1\n",
    "    for k in range(len(sorted_ele)-1):                                     # Iterate through the sorted days to find consecutive counts\n",
    "        if int(sorted_ele[k])+1 == int(sorted_ele[k+1]):                   # Check if the current day + 1 is equal to the next day\n",
    "            consecutive_count+=1                                           # If true, increment the consecutive count\n",
    "        else:\n",
    "            consecutive_count=1                                            # If not consecutive, reset the count\n",
    "\n",
    "    if consecutive_count>=7:                                               # Check if the consecutive count is greater than or equal to 7\n",
    "        position_id = df[df[\"Employee Name\"] == i][\"Position ID\"].iloc[0]  # Find the corresponding Position ID for the employee\n",
    "\n",
    "        print(f\"Employee NAME :: {i}, Position. ID :: {position_id}\")      # Print the employee's name and position ID\n"
   ]
  },
  {
   "cell_type": "markdown",
   "id": "8c1593f3-9014-48a1-8e15-37aa13f67786",
   "metadata": {},
   "source": [
    "# (B) who have less than 10 hours of time between shifts but greater than 1 hour"
   ]
  },
  {
   "cell_type": "code",
   "execution_count": 24,
   "id": "6d02efc8-b9d2-4e8c-8db4-a8ae7c495df6",
   "metadata": {},
   "outputs": [],
   "source": [
    "# This function takes two datetime objects, 'time_out' and 'time_in', and calculates the time difference in hours.\n"
   ]
  },
  {
   "cell_type": "code",
   "execution_count": 25,
   "id": "a8a724a7-115c-414f-9c66-81353c047e66",
   "metadata": {},
   "outputs": [],
   "source": [
    "def calculate_time_difference(time_out, time_in):\n",
    "    return (time_in - time_out).total_seconds() / 3600"
   ]
  },
  {
   "cell_type": "code",
   "execution_count": 26,
   "id": "2a41bf0e-10aa-4016-ad8b-0b56e49a950e",
   "metadata": {},
   "outputs": [],
   "source": [
    "# Sort the DataFrame by 'Employee Name' and 'Time In'\n",
    "# Already sorted upside function "
   ]
  },
  {
   "cell_type": "code",
   "execution_count": 27,
   "id": "19485c9e-4327-4ccc-ab53-c3b6f66bd67d",
   "metadata": {},
   "outputs": [],
   "source": [
    "# Loop through the DataFrame starting from the second row (index 1)\n"
   ]
  },
  {
   "cell_type": "code",
   "execution_count": 28,
   "id": "bf5772dd-6267-4c75-8a1b-6f8707626262",
   "metadata": {},
   "outputs": [
    {
     "name": "stdout",
     "output_type": "stream",
     "text": [
      "Employee NAME :: CEreira Jr, JEse (Position. ID :: WFS000456) Has Less than 10 Hours but Greater than 1 Hour between Shifts.\n",
      "Employee NAME :: CaMaXaWE, CeghaW (Position. ID :: WFS000153) Has Less than 10 Hours but Greater than 1 Hour between Shifts.\n",
      "Employee NAME :: CaMaXaWE, CeghaW (Position. ID :: WFS000153) Has Less than 10 Hours but Greater than 1 Hour between Shifts.\n",
      "Employee NAME :: De Xa Cerda, IgWaciE (Position. ID :: WFS000318) Has Less than 10 Hours but Greater than 1 Hour between Shifts.\n",
      "Employee NAME :: DeXgadiXXE REdarMe, ChrisMiaW S (Position. ID :: WFS000523) Has Less than 10 Hours but Greater than 1 Hour between Shifts.\n",
      "Employee NAME :: HaCiXMEW, DeaWMe DevEW (Position. ID :: WFS000536) Has Less than 10 Hours but Greater than 1 Hour between Shifts.\n",
      "Employee NAME :: MraW, WiXXiaC Ha (Position. ID :: WFS000345) Has Less than 10 Hours but Greater than 1 Hour between Shifts.\n",
      "Employee NAME :: REdrigAez, GraWdEW AWgeX (Position. ID :: WFS000550) Has Less than 10 Hours but Greater than 1 Hour between Shifts.\n",
      "Employee NAME :: Xee, XaCar (Position. ID :: WFS000200) Has Less than 10 Hours but Greater than 1 Hour between Shifts.\n",
      "Employee NAME :: Xee, XaCar (Position. ID :: WFS000200) Has Less than 10 Hours but Greater than 1 Hour between Shifts.\n",
      "Employee NAME :: Xee, XaCar (Position. ID :: WFS000200) Has Less than 10 Hours but Greater than 1 Hour between Shifts.\n"
     ]
    }
   ],
   "source": [
    "for i in range(1, len(df)):\n",
    "    if df.iloc[i][\"Employee Name\"] == df.iloc[i - 1][\"Employee Name\"]:    # Check if the current row and the previous row have the same 'Employee Name'\n",
    "        time_out = df.iloc[i - 1][\"Time Out\"]                             # Extract the 'Time Out' from the previous row and \n",
    "        time_in = df.iloc[i][\"Time\"]                                      # 'Time In' from the current row\n",
    "        if time_out and time_in:                                          # Check if both 'Time Out' and 'Time In' are not empty (not None)\n",
    "            time_difference = calculate_time_difference(time_out, time_in)   # Calculate the time difference using the 'calculate_time_difference' function\n",
    "            if 1 < time_difference < 10:                                  # Check if the time difference is between 1 and 10 hours\n",
    "                                              # Print a message indicating that the employee has less than 10 hours but more than 1 hour between shifts.\n",
    "                print(f\"Employee NAME :: {df.iloc[i]['Employee Name']} (Position. ID :: {df.iloc[i]['Position ID']}) Has Less than 10 Hours but Greater than 1 Hour between Shifts.\")\n"
   ]
  },
  {
   "cell_type": "code",
   "execution_count": null,
   "id": "44955ff3-2d00-4649-9bb5-59832b8e37cd",
   "metadata": {},
   "outputs": [],
   "source": []
  }
 ],
 "metadata": {
  "kernelspec": {
   "display_name": "Python 3 (ipykernel)",
   "language": "python",
   "name": "python3"
  },
  "language_info": {
   "codemirror_mode": {
    "name": "ipython",
    "version": 3
   },
   "file_extension": ".py",
   "mimetype": "text/x-python",
   "name": "python",
   "nbconvert_exporter": "python",
   "pygments_lexer": "ipython3",
   "version": "3.12.1"
  }
 },
 "nbformat": 4,
 "nbformat_minor": 5
}
